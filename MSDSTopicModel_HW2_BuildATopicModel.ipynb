{
  "cells": [
    {
      "cell_type": "markdown",
      "metadata": {
        "id": "view-in-github",
        "colab_type": "text"
      },
      "source": [
        "<a href=\"https://colab.research.google.com/github/punkmic/Topic-modeling-Amazon-Reviews/blob/master/MSDSTopicModel_HW2_BuildATopicModel.ipynb\" target=\"_parent\"><img src=\"https://colab.research.google.com/assets/colab-badge.svg\" alt=\"Open In Colab\"/></a>"
      ]
    },
    {
      "cell_type": "markdown",
      "metadata": {
        "id": "pWgYXQW1kuSg"
      },
      "source": [
        "# MSDS Marketing Text Analytics, Unit 2, Assignment 2: Build a topic model"
      ]
    },
    {
      "cell_type": "markdown",
      "source": [
        "## ⚡️ Make a Copy\n",
        "\n",
        "Save a copy of this notebook in your Google Drive before continuing. Be sure to edit your own copy, not the original notebook."
      ],
      "metadata": {
        "id": "dLHoXywD4Cqg"
      }
    },
    {
      "cell_type": "markdown",
      "metadata": {
        "id": "k3YbHDKkk1vq"
      },
      "source": [
        "In this assignment, you will implement a topic model preprocessor which can then be applied to the task of topic-modeling Amazon text reviews. Please review the course lectures and documentation up to this point before continuing. Be sure also to be familiar with the [documentation for TMToolkit](https://tmtoolkit.readthedocs.io/en/latest/topic_modeling.html)\n",
        "\n",
        "Be sure to make a copy into your own Drive account before editing this notebook.\n",
        "\n",
        "You will implement a preprocessing function to prepare your corpus for topic modeling. It is recommended that you use a small test corpus (an example is provided below) for development, rather than starting with the full review set."
      ]
    },
    {
      "cell_type": "markdown",
      "metadata": {
        "id": "9Rfw11JBiZHi"
      },
      "source": [
        "## Imports\n",
        "\n",
        "**Note:** we have to do a good amount of dependency cleanup in order to get tmtoolkit working in Colab. You will likely see WARNINGS in the output below, but you should not see any ERRORs. In the end, you should end up with spacy 2.3.7, en_core_web_sm 2.3.1, and tmtoolkit 0.10.0.\n",
        "\n",
        "**Important:** You will also likely see a message to restart the runtime after the installations are complete, and should do so."
      ]
    },
    {
      "cell_type": "code",
      "execution_count": null,
      "metadata": {
        "id": "jpxYdJGQiWqj"
      },
      "outputs": [],
      "source": [
        "try:\n",
        "    from tmtoolkit.corpus import Corpus\n",
        "    from tmtoolkit.preprocess import TMPreproc\n",
        "    from tmtoolkit.topicmod.model_io import print_ldamodel_topic_words\n",
        "    from tmtoolkit.topicmod.tm_lda import compute_models_parallel\n",
        "except ModuleNotFoundError:\n",
        "    !pip install --upgrade pip\n",
        "    !pip install lda\n",
        "    !pip install spacy-model-manager\n",
        "    !spacy-model remove en_core_web_sm\n",
        "    !pip uninstall -y spacy-model-manager\n",
        "    !pip uninstall -y spacy\n",
        "    !pip install spacy==2.3.7\n",
        "    !python -m spacy download en_core_web_sm\n",
        "    !pip uninstall -y imgaug\n",
        "    !pip install \"imgaug<0.2.7,>=0.2.5\"\n",
        "    !pip install tmtoolkit==0.10.0\n",
        "    from tmtoolkit.corpus import Corpus\n",
        "    from tmtoolkit.preprocess import TMPreproc\n",
        "    from tmtoolkit.topicmod.model_io import print_ldamodel_topic_words\n",
        "    from tmtoolkit.topicmod.tm_lda import compute_models_parallel"
      ]
    },
    {
      "cell_type": "markdown",
      "metadata": {
        "id": "kDKzLINMjD2n"
      },
      "source": [
        "**NOTE:** Loading a corpus as a list of strings is not the only way to use tmtoolkit. Given, for example, a large corpus that might not fit in memory, the current approach would not work well. See the tmtoolkit docs on [working with text corpora](https://tmtoolkit.readthedocs.io/en/latest/text_corpora.html) for more info."
      ]
    },
    {
      "cell_type": "markdown",
      "metadata": {
        "id": "X8g9kSJwi7M7"
      },
      "source": [
        "## Implement a pre-processor\n",
        "\n",
        "Here you will implement a function called `preprocess` which returns the TMPreproc object to be used for topic modeling.\n",
        "\n",
        "The preprocess function will take a list of texts and return a pre-processed corpus object, i.e. a TMPreproc object. Preprocessing should include the following actions on the corpus using the appropriate methods in the TMPreproc class:\n",
        "\n",
        " - lemmatize the texts\n",
        " - convert tokens to lowercase\n",
        " - remove special characters\n",
        " - clean tokens to remove numbers and any tokens shorter than 3 characters\n",
        "\n",
        "The first part of the function to create the corpus and preprocess object are done for you. Your job is to call the specific preprocess functions and to return the resulting preprocess object.\n"
      ]
    },
    {
      "cell_type": "code",
      "execution_count": null,
      "metadata": {
        "id": "eQFevchKhohK"
      },
      "outputs": [],
      "source": [
        "def preprocess(texts, lang=\"en\"):\n",
        "    \"\"\"Preprocessor which returns a TMPreproc object processed on corpus as language\n",
        "    specified by lang (defaults to \"en\"):\n",
        "\n",
        "    Should perform all of the following pre-processing functions:\n",
        "     - lemmatize\n",
        "     - tokens_to_lowercase\n",
        "     - remove_special_chars_in_tokens\n",
        "     - clean_tokens (remove numbers, and remove tokens shorter than 2)\n",
        "    \"\"\"\n",
        "    # Here, we just use the index of the text as the label for the corpus item\n",
        "    corpus = Corpus({ i:r for i, r in enumerate(texts) })\n",
        "    preproc = TMPreproc(corpus, language=lang)\n",
        "\n",
        "    # TODO: Complete the implementation of this function and submit the\n",
        "    # .py download of this notebook as your assignment submission."
      ]
    },
    {
      "cell_type": "code",
      "source": [
        "#~~ /autograde # do not delete this cell"
      ],
      "metadata": {
        "id": "r_jJg5-xRczD"
      },
      "execution_count": null,
      "outputs": []
    },
    {
      "cell_type": "markdown",
      "metadata": {
        "id": "r2aoBerYnF2M"
      },
      "source": [
        "---\n",
        "### ⚠️  **Caution:** No arbitrary code above this line\n",
        "\n",
        "The only code written above should be the implementation of your graded function. For experimentation and testing, only add code below.\n",
        "___"
      ]
    },
    {
      "cell_type": "markdown",
      "metadata": {
        "id": "dBlUJqEan3oc"
      },
      "source": [
        "## Function development\n",
        "\n",
        "Use this section of code to verify your function implementation. You may change the test_corpus as needed to verify your implementation. The grader will be checking that your function returns a TMPreproc object that meets all of the following critera:\n",
        "\n",
        " - tokens are lemmatized\n",
        " - tokens are converted to lowercase\n",
        " - special characters are removed from tokens\n",
        " - tokens shorter than 3 characters and numerics are removed"
      ]
    },
    {
      "cell_type": "code",
      "execution_count": null,
      "metadata": {
        "id": "YBlpS0RsrJ3s"
      },
      "outputs": [],
      "source": [
        "import pprint\n",
        "pp = pprint.PrettyPrinter(indent=4)"
      ]
    },
    {
      "cell_type": "code",
      "execution_count": null,
      "metadata": {
        "id": "_tk2oDy5j1gQ"
      },
      "outputs": [],
      "source": [
        "test_corpus = [ # Feel free to edit this corpus for further testing\n",
        "                # to be sure that your functions meet specifications.\n",
        "    \"The 3 cats sat on the mats!\",\n",
        "    \"1 fish 2 fish Red fish Blue fish\",\n",
        "    \"She sells $ea$shells\"\n",
        "]\n",
        "preproc = preprocess(test_corpus)\n",
        "pp.pprint(preproc.get_tokens())"
      ]
    },
    {
      "cell_type": "code",
      "execution_count": null,
      "metadata": {
        "id": "DuhlHcwQjs8T"
      },
      "outputs": [],
      "source": [
        "dtms = {\n",
        "    \"test_corpus\": preproc.dtm\n",
        "}\n",
        "lda_params = {\n",
        "    'n_topics': 2,\n",
        "    'eta': .01,\n",
        "    'n_iter': 10,\n",
        "    'random_state': 1234,  # to make results reproducible\n",
        "    'alpha': 1/16\n",
        "}\n",
        "\n",
        "models = compute_models_parallel(dtms, constant_parameters=lda_params)"
      ]
    },
    {
      "cell_type": "code",
      "execution_count": null,
      "metadata": {
        "id": "uvB8TL-muaM0"
      },
      "outputs": [],
      "source": [
        "model = models[\"test_corpus\"][0][1]\n",
        "print_ldamodel_topic_words(model.topic_word_, preproc.vocabulary, top_n=5)"
      ]
    },
    {
      "cell_type": "markdown",
      "metadata": {
        "id": "_f8YqCs3kVFQ"
      },
      "source": [
        "### Assignment submission\n",
        "\n",
        "After completing the preprocess implementation, download your notebook as a .py file (File > Download > Download .py) and submit the downloaded file for grading."
      ]
    },
    {
      "cell_type": "markdown",
      "metadata": {
        "id": "9-RmT0BazGQg"
      },
      "source": [
        "## Topic modeling Amazon Reviews\n",
        "\n",
        "Once you have completed the assignment above, you will be well prepared to start your final project for this unit. The project will include loading Amazon reviews into a corpus for topic modeling. The code below demonstrates topic modeling the reviews for a given brand. Note that the final project will require additional segmentation of the data, which is not done for you in the example here."
      ]
    },
    {
      "cell_type": "code",
      "execution_count": null,
      "metadata": {
        "id": "RpcCkHX1P1d6"
      },
      "outputs": [],
      "source": [
        "import gzip\n",
        "import itertools\n",
        "import json\n",
        "\n",
        "asins = []\n",
        "\n",
        "# To run this code, you will need to download the metadata file from the course\n",
        "# assets and upload it to your Google Drive. See the notes about that file\n",
        "# regarding how it was processed from the original file into json-l format.\n",
        "\n",
        "with gzip.open(\"drive/MyDrive/meta_Clothing_Shoes_and_Jewelry.jsonl.gz\") as products:\n",
        "    for product in products:\n",
        "        data = json.loads(product)\n",
        "        categories = [c.lower() for c in\n",
        "                      list(itertools.chain(*data.get(\"categories\", [])))]\n",
        "        if \"nike\" in categories:\n",
        "            asins.append(data[\"asin\"])"
      ]
    },
    {
      "cell_type": "markdown",
      "source": [
        "Inspect the first fews ASINs"
      ],
      "metadata": {
        "id": "KysOEFGwVfIh"
      }
    },
    {
      "cell_type": "code",
      "execution_count": null,
      "metadata": {
        "id": "xycViEOjR4Gr"
      },
      "outputs": [],
      "source": [
        "asins[:3]"
      ]
    },
    {
      "cell_type": "markdown",
      "source": [
        "Check the length, i.e. the number of resulting ASINs"
      ],
      "metadata": {
        "id": "P0Gska4bVj3b"
      }
    },
    {
      "cell_type": "code",
      "execution_count": null,
      "metadata": {
        "id": "AIqkMoAvU-Sz"
      },
      "outputs": [],
      "source": [
        "len(asins)"
      ]
    },
    {
      "cell_type": "markdown",
      "source": [
        "Build a corpus of review texts"
      ],
      "metadata": {
        "id": "y0bwBkHsVrsy"
      }
    },
    {
      "cell_type": "code",
      "execution_count": null,
      "metadata": {
        "id": "u6HT0Yjy3gNG"
      },
      "outputs": [],
      "source": [
        "review_corpus = []\n",
        "with gzip.open(\"drive/MyDrive/reviews_Clothing_Shoes_and_Jewelry_5.json.gz\") as reviews:\n",
        "    for review in reviews:\n",
        "        data = json.loads(review)\n",
        "        if data[\"asin\"] in asins:\n",
        "            text = data[\"reviewText\"]\n",
        "            review_corpus.append(text)"
      ]
    },
    {
      "cell_type": "markdown",
      "source": [
        "Inspect a few of the reviews"
      ],
      "metadata": {
        "id": "hKrH89AKVwCe"
      }
    },
    {
      "cell_type": "code",
      "execution_count": null,
      "metadata": {
        "id": "A9Ct4cj7Tih9"
      },
      "outputs": [],
      "source": [
        "for i, review in enumerate(review_corpus[:5]):\n",
        "    print(i, review[:80])"
      ]
    },
    {
      "cell_type": "markdown",
      "source": [
        "Build a TMPreproc object from the review corpus"
      ],
      "metadata": {
        "id": "q9ppd90QVzgj"
      }
    },
    {
      "cell_type": "code",
      "execution_count": null,
      "metadata": {
        "id": "taIJ_BZU7E81"
      },
      "outputs": [],
      "source": [
        "pre = preprocess(review_corpus)"
      ]
    },
    {
      "cell_type": "code",
      "execution_count": null,
      "metadata": {
        "id": "wq_-wpEE8cnV"
      },
      "outputs": [],
      "source": [
        "dtms = {\n",
        "    \"reviews_corpus\": pre.dtm\n",
        "}\n",
        "lda_params = {\n",
        "    'n_topics': 10,\n",
        "    'eta': .01,\n",
        "    'n_iter': 10,\n",
        "    'random_state': 1234,  # to make results reproducible\n",
        "    'alpha': 1/16\n",
        "}\n",
        "\n",
        "models = compute_models_parallel(dtms, constant_parameters=lda_params)"
      ]
    },
    {
      "cell_type": "markdown",
      "source": [
        "Print the topics"
      ],
      "metadata": {
        "id": "RGRrYqRuV7nD"
      }
    },
    {
      "cell_type": "code",
      "source": [
        "model = models[\"reviews_corpus\"][0][1]\n",
        "print_ldamodel_topic_words(model.topic_word_, pre.vocabulary, top_n=5)"
      ],
      "metadata": {
        "id": "D8GYqMPHjVH7"
      },
      "execution_count": null,
      "outputs": []
    },
    {
      "cell_type": "code",
      "source": [],
      "metadata": {
        "id": "zx2YFruQjWfP"
      },
      "execution_count": null,
      "outputs": []
    },
    {
      "cell_type": "markdown",
      "source": [
        "## Save your topic model and corpus for use in Lab 2"
      ],
      "metadata": {
        "id": "Z7Mci4DlcB64"
      }
    },
    {
      "cell_type": "markdown",
      "source": [
        "Once you have completed the above assignment, run the following code to save your topic model and your corpus to your Google Drive. You will load this model and use it for document classification in Lab 2."
      ],
      "metadata": {
        "id": "uk6JySzqcGIU"
      }
    },
    {
      "cell_type": "code",
      "source": [
        "import pickle\n",
        "from tmtoolkit.topicmod.model_io import save_ldamodel_to_pickle\n",
        "\n",
        "with open(\"drive/MyDrive/MSDS_HW2_model.p\", \"wb\") as modelfile:\n",
        "    save_ldamodel_to_pickle(modelfile, model, pre.vocabulary, pre.doc_labels, dtm=pre.dtm)"
      ],
      "metadata": {
        "id": "qVXbd0AUcJIr"
      },
      "execution_count": null,
      "outputs": []
    },
    {
      "cell_type": "code",
      "source": [
        "with open(\"drive/MyDrive/MSDS_HW2_corpus.p\", \"wb\") as corpusfile:\n",
        "    pickle.dump(review_corpus, corpusfile)"
      ],
      "metadata": {
        "id": "PVhycwCNcL4w"
      },
      "execution_count": null,
      "outputs": []
    }
  ],
  "metadata": {
    "colab": {
      "provenance": [],
      "collapsed_sections": [],
      "include_colab_link": true
    },
    "kernelspec": {
      "display_name": "Python 3",
      "name": "python3"
    },
    "language_info": {
      "name": "python"
    }
  },
  "nbformat": 4,
  "nbformat_minor": 0
}